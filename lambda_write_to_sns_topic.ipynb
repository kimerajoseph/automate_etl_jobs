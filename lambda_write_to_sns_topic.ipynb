{
 "cells": [
  {
   "cell_type": "code",
   "execution_count": null,
   "id": "ce643eb0",
   "metadata": {},
   "outputs": [],
   "source": [
    "# Import modules\n",
    "import boto3\n",
    "import json\n",
    "import os\n",
    "import logging\n",
    "\n",
    "# Set up Boto 3 client for SNS\n",
    "client = boto3.client('sns')\n",
    "# Variables for the SNS:\n",
    "snsTopicARN = \"<your-topic-ARN>\"\n",
    "# Define Lambda function\n",
    "def lambda_handler(event, context):\n",
    "    glueJobName = event['detail']['jobName']\n",
    "    jobRunId = event['detail']['jobRunId']\n",
    "    runTime = event['time']\n",
    "    \n",
    "    message = f\"\"\"\n",
    "        A Glue job has failed \\n\n",
    "        Glue job Name: {glueJobName} \\n\n",
    "        Glue Job ID: {jobRunId} \\n\n",
    "        Run time: {runTime}\n",
    "        \"\"\"\n",
    "    print(message)\n",
    "    response = client.publish(\n",
    "        TargetArn=snsTopicARN,\n",
    "        Message=json.dumps({'default': json.dumps(message)}),\n",
    "        Subject='An AWS Glue Job has failed',\n",
    "        MessageStructure='json')"
   ]
  }
 ],
 "metadata": {
  "kernelspec": {
   "display_name": "Python 3 (ipykernel)",
   "language": "python",
   "name": "python3"
  },
  "language_info": {
   "codemirror_mode": {
    "name": "ipython",
    "version": 3
   },
   "file_extension": ".py",
   "mimetype": "text/x-python",
   "name": "python",
   "nbconvert_exporter": "python",
   "pygments_lexer": "ipython3",
   "version": "3.8.12"
  }
 },
 "nbformat": 4,
 "nbformat_minor": 5
}
