{
 "cells": [
  {
   "cell_type": "code",
   "execution_count": null,
   "id": "f3019959",
   "metadata": {},
   "outputs": [],
   "source": [
    "# Set up logging\n",
    "import json\n",
    "import os\n",
    "import logging\n",
    "from datetime import datetime\n",
    "\n",
    "logger = logging.getLogger()\n",
    "logger.setLevel(logging.INFO)\n",
    "\n",
    "# Import Boto 3 for AWS Glue\n",
    "import boto3\n",
    "client = boto3.client('glue')\n",
    "\n",
    "# Variables for the job: \n",
    "glueJobName = \"<your-glue-name>\"\n",
    "\n",
    "print(\"FUNCTION CALLED AT: \", datetime.now())\n",
    "# Define Lambda function\n",
    "def lambda_handler(event, context):\n",
    "    logger.info('## INITIATED BY EVENT: ')\n",
    "    #logger.info(event['detail'])\n",
    "    response = client.start_job_run(JobName = glueJobName)\n",
    "    logger.info('## STARTED GLUE JOB: ' + glueJobName)\n",
    "    logger.info('## GLUE JOB RUN ID: ' + response['JobRunId'])\n",
    "    return response"
   ]
  }
 ],
 "metadata": {
  "kernelspec": {
   "display_name": "Python 3 (ipykernel)",
   "language": "python",
   "name": "python3"
  },
  "language_info": {
   "codemirror_mode": {
    "name": "ipython",
    "version": 3
   },
   "file_extension": ".py",
   "mimetype": "text/x-python",
   "name": "python",
   "nbconvert_exporter": "python",
   "pygments_lexer": "ipython3",
   "version": "3.8.12"
  }
 },
 "nbformat": 4,
 "nbformat_minor": 5
}
