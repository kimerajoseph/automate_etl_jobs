{
 "cells": [
  {
   "cell_type": "code",
   "execution_count": null,
   "id": "7f80288e",
   "metadata": {},
   "outputs": [],
   "source": [
    "import json\n",
    "import boto3\n",
    "\n",
    "print('Loading function')\n",
    "\n",
    "glue = boto3.client(service_name='glue', region_name='your-aws-region')\n",
    "              \n",
    "\n",
    "def lambda_handler(event, context):\n",
    "    #print(\"Received event: \" + json.dumps(event, indent=2))\n",
    "\n",
    "    try:\n",
    "       glue.start_crawler(Name='<your-crawler-name>')\n",
    "       print(\"CRAWLER STARTED\")\n",
    "    except Exception as e:\n",
    "        print(e)\n",
    "        print('Error starting crawler')\n",
    "        raise e\n"
   ]
  }
 ],
 "metadata": {
  "kernelspec": {
   "display_name": "Python 3 (ipykernel)",
   "language": "python",
   "name": "python3"
  },
  "language_info": {
   "codemirror_mode": {
    "name": "ipython",
    "version": 3
   },
   "file_extension": ".py",
   "mimetype": "text/x-python",
   "name": "python",
   "nbconvert_exporter": "python",
   "pygments_lexer": "ipython3",
   "version": "3.8.12"
  }
 },
 "nbformat": 4,
 "nbformat_minor": 5
}
