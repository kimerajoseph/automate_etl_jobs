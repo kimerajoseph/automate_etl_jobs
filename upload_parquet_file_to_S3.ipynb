{
 "cells": [
  {
   "cell_type": "code",
   "execution_count": 1,
   "id": "d2076a00",
   "metadata": {},
   "outputs": [],
   "source": [
    "import pandas as pd\n",
    "import boto3\n",
    "import pyarrow as pa\n",
    "import pyarrow.parquet as pq\n",
    "from s3fs import S3FileSystem\n",
    "import snappy  "
   ]
  },
  {
   "cell_type": "code",
   "execution_count": 2,
   "id": "bf618f0c",
   "metadata": {},
   "outputs": [],
   "source": [
    "s3_client = boto3.client('s3', region_name='aws-region',aws_access_key_id='your-aws-key',\n",
    "                         aws_secret_access_key='your-aws-secret-key')"
   ]
  },
  {
   "cell_type": "code",
   "execution_count": null,
   "id": "3cac5891",
   "metadata": {},
   "outputs": [],
   "source": [
    "# Read csv file into pandas df\n",
    "df = pd.read_csv(\"/path-to-csv-file/file.csv\")\n",
    "\n",
    "# save parquet file to your local machine\n",
    "# I think there is a way to skip this step\n",
    "df.to_parquet(\"/path-to-parquet-file/file.parquet\", engine='auto', compression='snappy')"
   ]
  },
  {
   "cell_type": "code",
   "execution_count": null,
   "id": "cc2ecc2b",
   "metadata": {},
   "outputs": [],
   "source": [
    "# Read parquet file into a df\n",
    "paq_df = pd.read_parquet(\"/path-to-parquet-file/file.parquet\")\n",
    "paq_df.head()"
   ]
  },
  {
   "cell_type": "code",
   "execution_count": null,
   "id": "bbf4031b",
   "metadata": {},
   "outputs": [],
   "source": [
    "output_file = \"s3://<aws-s3-bucket-name>/output.parquet\"  # S3 Path \n",
    "s3 = S3FileSystem()\n",
    "table = pa.Table.from_pandas(paq_df)\n",
    "pq.write_to_dataset(table=table,\n",
    "                    root_path=output_file,\n",
    "                    filesystem=s3)"
   ]
  }
 ],
 "metadata": {
  "kernelspec": {
   "display_name": "Python 3 (ipykernel)",
   "language": "python",
   "name": "python3"
  },
  "language_info": {
   "codemirror_mode": {
    "name": "ipython",
    "version": 3
   },
   "file_extension": ".py",
   "mimetype": "text/x-python",
   "name": "python",
   "nbconvert_exporter": "python",
   "pygments_lexer": "ipython3",
   "version": "3.8.12"
  }
 },
 "nbformat": 4,
 "nbformat_minor": 5
}
